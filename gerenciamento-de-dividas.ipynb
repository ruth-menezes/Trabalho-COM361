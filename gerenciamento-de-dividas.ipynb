{
  "cells": [
    {
      "cell_type": "markdown",
      "metadata": {
        "id": "ru6T1DYR2S76"
      },
      "source": [
        "### COM361 &mdash; Introdução a Otimização &mdash; 2022, Prof. Amit ###\n",
        "\n",
        "# Gerenciamento de Dívida de Cartão de Crédito #\n",
        "\n",
        "#### Camila Maia de Carvalho (camilamaia@poli.ufrj.br), Ruth Menezes (ruthmenezesbr@poli.ufrj.br)\n",
        "\n",
        "*****\n",
        "\n",
        "### Índice\n",
        "\n",
        "1. [Introdução](#1.-Introdução)\n",
        "2. [Modelo Matemático](#2.-Modelo Mathemático)\n",
        "3. [Solução](#3.-Solução)\n",
        "4. [Resultados e Discussão](#4.-Resultados-e-discussão)\n",
        "  4.1. [Subseção Opcional](#4.A.-Acrescente-subseções-se-necessário)\n",
        "5. [Conclusão](#5.-Conclusão)\n",
        "6. [Referências bibliográficas] (#6.-Referências bibliográficas)"
      ]
    },
    {
      "cell_type": "markdown",
      "metadata": {
        "collapsed": true,
        "id": "_6vSnBr62S8A"
      },
      "source": [
        "## 1. Introdução ##\n",
        "\n",
        "O projeto em questão visa um modelo de otimização de gerenciamento de dívidas de cartão de crédito para que os indivíduos que possuam alguma dívida possam utilizar desse modelo para obter uma solução viável economicamente para saldar suas contas. No caso, o indivíduo em questão possui três cartões de crédito distintos, com diferentes saldos e taxas de juros e uma quantia para saldar suas dívidas de forma parcial. O modelo irá implementar um sistema de controle mensal e por quanto tempo tal modelo irá funcionar.\n",
        "\n",
        "Dito isso, o modelo funcionará da seguinte forma: \n",
        "1. Os três cartões do indivíduo terão saldos $x_1$,$x_2$ e $x_3$ ;\n",
        "2. As taxas de juros serão de $\\alpha_1$ , $\\alpha_2$ e $\\alpha_3$ ;\n",
        "3. Conta corrente de saldo $y(k)$, onde k é o instante da dívida;\n",
        "4. A quantia $u(k)$ é utilizada para saldar a dívida, onde k é o instante.\n",
        "\n",
        "Observação: Vale ressaltar que vamos considerar para este modelo uma taxa de juros de cheque especial de 6,6% ao mês e como taxa de juros para o país em torno de 1,43% ao mês. \n",
        "\n",
        "Logo, $x(k + 1) = (1 + \\alpha)x(k) - u(k)$ . \n",
        "\n",
        "O projeto em questão tem a sua devida importância, principalmente, quando se trata do cenário atual de endividamento da população brasileira. Segundo o portal de notícias do G1, cerca de 85,3% das famílias brasileiras são afetadas por dívidas de cartão de crédito, sendo este o maior índice quando comparado a outros tipos de dívida, como chegue especial ou crédito consignado. Portanto, é fundamental que os brasileiros tenham ferramentas que os auxiliem em relação a questão do endividamento. "
      ]
    },
    {
      "cell_type": "markdown",
      "metadata": {
        "collapsed": true,
        "id": "PTA2mDIp2S8F"
      },
      "source": [
        "## 2. Modelo matemático ##\n",
        "\n",
        "Para o modelo matemático do problema, utilizaremos a equação abaixo: \n",
        "\n",
        "$x_i(k + 1) = (1 + \\alpha_i)x_i(k) - u_i(k)$\n",
        "\n",
        "Ou seja, o saldo do cartão i no instante (k + 1) é igual a 1 mais a taxa de juros aplicada sobre o saldo anterior multiplicada pelo saldo no instante K subtraída do pagamento efetuado para quitar o saldo de forma parcial. \n",
        "\n",
        "Além disso, pode ser modelada também a conta corrente: \n",
        "\n",
        "$y(k+1) = y(k) - u_{total}(k)$\n",
        "\n",
        "Logo, o saldo da conta corrente no momento $K + 1$ é igual ao saldo da conta no instante $k$ menos o valor retirado da conta para saldar a dívida ($u(k)$). \n",
        "\n",
        "Para esse problema também, precisaremos das variáveis de decisão, as quais são representadas pelos pagamentos realizados por mês para saldar a dívida e os saldos das dívidas dos três cartões em cada instante de tempo. \n",
        "\n",
        "A seguir, está representada a função quadrático que será utilizada, a qual foi retirada do livro \"Introduction to Optimization\", de Edwin K. P. Chong e Stanislaw H.:\n",
        "\n",
        "minimizar \n",
        "$\\frac{1}{2}\\sum_{i=1}^{n}(q(x_i)^2 + r(u_i)^2)$\n",
        "\n",
        "Bem como aponta o livro utilizado, os parâmetros q e r refletem a prioridade no trade-off entre a redução da dívida e as dificuldades em fazer pagamentos. Quanto mais ansioso o indivíduo estiver para reduzir sua dívida, maior o valor de q em relação a r. Por outro lado, quanto mais relutante em fazer pagamentos, maior o valor de r em relação a q. Com a variação desses parêmtros, é possível ajustar para diferentes indivíduos dependendo da situação financeira da pessoa em questão. \n",
        "\n",
        "O problema em questão é do tipo LQR (Linear Quadratic Regulator), o qual se baseia em desigualdades matriciais lineares para sistemas lineares contínuos e invariantes no tempo sujeitos a incertezas politópicas (politopo é a casca convexa de um conjunto finito de vértices) no modelo.\n",
        "\n",
        "Ouuuu (Ruth, me ajuda a escolher qual das frases é melhor)\n",
        "\n",
        "O problema em questão é do tipo LQR (Linear Quadratic Regulator), visto que a matriz de ganhos será obtida a partir da minimização de um funcional de custo quadrático. \n",
        "\n",
        "Portanto, o modelo proposto é exposto a seguir: \n",
        "\n",
        "minimizar \n",
        "\n",
        "$\\frac{1}{2} \\sum_{i=1}^{n} q((x_{1i})^2 + (x_{2i})^2 + (x_{3i})^2) + r((u_{1i})^2 + (u_{2i})^2 + (u_{3i})^2) $\n",
        "\n",
        "Sujeito a: \n",
        "\n",
        "$x_1(k + 1) = (1 + \\alpha_1)x_1(k) - u_1(k) \\\\ $ \n",
        "$x_2(k + 1) = (1 + \\alpha_2)x_2(k) - u_2(k) \\\\ $\n",
        "$x_3(k + 1) = (1 + \\alpha_3)x_3(k) - u_3(k) \\\\ $\n",
        "$y(k+1) = y(k) - u_{total}(k) \\\\ $"
      ]
    },
    {
      "cell_type": "markdown",
      "metadata": {
        "collapsed": true,
        "id": "ZqVePGp62S8H"
      },
      "source": [
        "## 3. Solução ##\n",
        "\n",
        "Nesta seção, coloque seu código em Julia + JuMP e resolva o problema proposto. Seu código deve ser limpo (não macarrônico!), de fácil leitura, bem comentado e anotado e deve compilar sem erros em Julia 1.x, x$\\geq 1$! Não valem códigos em outras linguagens. **Vou rodar seu código para avaliar seu projeto**. Sugiro a utilização de múltiplos blocos de códigos separados por blocos de texto (células Markdown) explicando as várias partes da sua solução. Sugiro também a resolução de várias versões do seu problema, com modelos e hipóteses diferentes.\n",
        "\n",
        "É permitido chamar pacotes externos, mas evite a utilização de bibliotecas exóticas (pois, em geral, não rodam em todas as versões de Julia, e terei que instalar a mesma versão que você usou, ou rodar na plataforma Google Colab, que gostaria de evitar)."
      ]
    },
    {
      "cell_type": "code",
      "execution_count": null,
      "metadata": {
        "id": "EzjcC3N32S8J",
        "outputId": "1b2a5358-f3f2-4ce3-bee4-c782cf1993a0"
      },
      "outputs": [
        {
          "name": "stdout",
          "output_type": "stream",
          "text": [
            "O número total de cavalos é: 10.0\n",
            "O número total de jegues é: 0.0\n",
            "O número total de cabras é: 0.0\n"
          ]
        }
      ],
      "source": [
        "# Este é um exemplo de um bloco de código\n",
        "using JuMP, Clp\n",
        "m = Model(with_optimizer(Clp.Optimizer,LogLevel=0) )\n",
        "bichos = [:cavalos, :jegues, :cabras]  # estes são os bichos \n",
        "@variable(m, x[bichos] >= 0)          # as quantidades de cada um (não podem ser negativas)\n",
        "@constraint(m, sum(x) <= 10)          # não podemos ter mais de 10 no total.\n",
        "@objective(m, Max, x[:cavalos])        # queremos maximizar o número de cavalos\n",
        "optimize!(m)\n",
        "\n",
        "for i in bichos\n",
        "    println(\"O número total de \", i, \" é: \", JuMP.value.(x[i]))     # imprime o resultado na tela\n",
        "end"
      ]
    },
    {
      "cell_type": "markdown",
      "metadata": {
        "id": "Row5sxRu2S8g"
      },
      "source": [
        "**Tenha certeza de que seu código compila corretamente! Rodarei seu código!**"
      ]
    },
    {
      "cell_type": "markdown",
      "metadata": {
        "collapsed": true,
        "id": "0iD7gVO32S8h"
      },
      "source": [
        "## 4. Resultados e discussão ##\n",
        "\n",
        "Neste seção, os resultados obtidos serão exibidos e discutidos. Mostre figuras, gráficos, imagens, curvas de compromisso, e o que mais puder melhor ilustrar seus resultados. A discussão deverá explicar o que significam os resultados e como interpretá-los. As limitações da sua abordagem/modelo também devem ser colocadas, bem como uma análise da sensibilidade dos resultados em relação às hipóteses feitas.\n",
        "\n",
        "\n",
        "Utilize plots (veja exemplos  `PyPlot` [aqui](https://gist.github.com/gizmaa/7214002))\n",
        "\n",
        "Aqui está um exemplo de uma tabela (em Markdown):\n",
        "\n",
        "| Tabelas        | São           | Boas  |\n",
        "| ------------- |:-------------:| -----:|\n",
        "| col 3 é      | alinhado à direita |\\$1600 |\n",
        "| col 2 é      | centrado      |  \\$12 |\n",
        "| texto | também serve      |   \\$1 |\n",
        "\n",
        "### 4.A. Subseções devem ser utilizadas para organizar seu texto.\n",
        "\n",
        "#### 4.A.a. ou até subsubseções."
      ]
    },
    {
      "cell_type": "markdown",
      "metadata": {
        "collapsed": true,
        "id": "zzczeZQn2S8i"
      },
      "source": [
        "## 5. Conclusão ##\n",
        "\n",
        "Faça um resumo do que encontrou e dos seus resultados, e fale de pelo menos uma direção na qual  seu trabalho pode ser desenvolvido no futuro, algo que poderia ser interessante em decorrência do seu projeto.\n"
      ]
    },
    {
      "cell_type": "markdown",
      "metadata": {
        "id": "GRvwOrFn2S8j"
      },
      "source": [
        "## 6. Referências bibliográficas ##\n",
        "\n",
        "Livro \"An introdution to optimization\" \n",
        "https://medium.com/@controleavancadoemultivariavel/projeto-de-controladores-%C3%B3timos-lqr-42e16cfe48ce\n",
        "https://fei.edu.br/sbai/SBAI2007/docs/30870_1.pdf\n",
        "https://www.bcb.gov.br/estatisticas/reporttxjuros?parametros=tipopessoa:1;modalidade:216;encargo:101\n",
        "https://www.bcb.gov.br/controleinflacao/historicotaxasjuros"
      ]
    }
  ],
  "metadata": {
    "@webio": {
      "lastCommId": null,
      "lastKernelId": null
    },
    "kernelspec": {
      "display_name": "Julia 1.8.2",
      "language": "julia",
      "name": "julia-1.8"
    },
    "language_info": {
      "file_extension": ".jl",
      "mimetype": "application/julia",
      "name": "julia",
      "version": "1.8.2"
    },
    "colab": {
      "provenance": []
    }
  },
  "nbformat": 4,
  "nbformat_minor": 0
}